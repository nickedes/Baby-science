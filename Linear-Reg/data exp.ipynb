{
 "cells": [
  {
   "cell_type": "code",
   "execution_count": 127,
   "metadata": {
    "collapsed": false,
    "scrolled": false
   },
   "outputs": [
    {
     "data": {
      "text/plain": [
       "array(['< 1 year', '2 years', '5 years', '9 years', '3 years', '10+ years',\n",
       "       '8 years', '6 years', '1 year', '7 years', '4 years', nan], dtype=object)"
      ]
     },
     "execution_count": 127,
     "metadata": {},
     "output_type": "execute_result"
    }
   ],
   "source": [
    "%matplotlib inline\n",
    "# first we ingest the data from the source on the web\n",
    "# this contains a reduced version of the data set from Lending Club\n",
    "import pandas as pd\n",
    "\n",
    "# To filter and remove rows with NA values.\n",
    "na_values = ['n/a']\n",
    "\n",
    "loansData = pd.read_csv('../datasets/loansData.csv',na_values=na_values, dtype={'Employment.Length': str})\n",
    "# Should have no NA.\n",
    "loansData['Employment.Length'].unique()"
   ]
  },
  {
   "cell_type": "code",
   "execution_count": 128,
   "metadata": {
    "collapsed": false
   },
   "outputs": [
    {
     "data": {
      "text/plain": [
       "81174     8.90%\n",
       "99592    12.12%\n",
       "80059    21.98%\n",
       "15825     9.99%\n",
       "33182    11.71%\n",
       "Name: Interest.Rate, dtype: object"
      ]
     },
     "execution_count": 128,
     "metadata": {},
     "output_type": "execute_result"
    }
   ],
   "source": [
    "loansData['Interest.Rate'][0:5]  # first five rows of Interest.Rate"
   ]
  },
  {
   "cell_type": "code",
   "execution_count": 129,
   "metadata": {
    "collapsed": true
   },
   "outputs": [],
   "source": [
    "def fix_interest(rates):\n",
    "    # Truncate the last character from every interest rate\n",
    "    rates = rates.str.slice(0,-1)\n",
    "    \n",
    "    return rates"
   ]
  },
  {
   "cell_type": "code",
   "execution_count": 130,
   "metadata": {
    "collapsed": false
   },
   "outputs": [
    {
     "data": {
      "text/plain": [
       "81174     8.90\n",
       "99592    12.12\n",
       "80059    21.98\n",
       "15825     9.99\n",
       "33182    11.71\n",
       "Name: Interest.Rate, dtype: object"
      ]
     },
     "execution_count": 130,
     "metadata": {},
     "output_type": "execute_result"
    }
   ],
   "source": [
    "# First five rows after removing % signs from rates\n",
    "loansData['Interest.Rate'].str.slice(0,-1)[0:5]"
   ]
  },
  {
   "cell_type": "code",
   "execution_count": 131,
   "metadata": {
    "collapsed": false
   },
   "outputs": [],
   "source": [
    "# Making changes in original data\n",
    "loansData['Interest.Rate'] = fix_interest(loansData['Interest.Rate'])"
   ]
  },
  {
   "cell_type": "code",
   "execution_count": 132,
   "metadata": {
    "collapsed": false
   },
   "outputs": [
    {
     "data": {
      "text/plain": [
       "81174    36 months\n",
       "99592    36 months\n",
       "80059    60 months\n",
       "15825    36 months\n",
       "33182    36 months\n",
       "Name: Loan.Length, dtype: object"
      ]
     },
     "execution_count": 132,
     "metadata": {},
     "output_type": "execute_result"
    }
   ],
   "source": [
    "loansData['Loan.Length'][0:5]"
   ]
  },
  {
   "cell_type": "code",
   "execution_count": 133,
   "metadata": {
    "collapsed": false
   },
   "outputs": [],
   "source": [
    "def remove_months(loan):\n",
    "    # Remove ' months' suffix from each row\n",
    "    loan = loan.str.slice(0, -7)\n",
    "    return loan"
   ]
  },
  {
   "cell_type": "code",
   "execution_count": 134,
   "metadata": {
    "collapsed": false
   },
   "outputs": [
    {
     "data": {
      "text/plain": [
       "81174    36\n",
       "99592    36\n",
       "80059    60\n",
       "15825    36\n",
       "33182    36\n",
       "Name: Loan.Length, dtype: object"
      ]
     },
     "execution_count": 134,
     "metadata": {},
     "output_type": "execute_result"
    }
   ],
   "source": [
    "# Making changes in original data\n",
    "loansData['Loan.Length'] = remove_months(loansData['Loan.Length'])\n",
    "loansData['Loan.Length'][0:5]"
   ]
  },
  {
   "cell_type": "code",
   "execution_count": 135,
   "metadata": {
    "collapsed": false
   },
   "outputs": [
    {
     "data": {
      "text/plain": [
       "81174    735-739\n",
       "99592    715-719\n",
       "80059    690-694\n",
       "15825    695-699\n",
       "33182    695-699\n",
       "Name: FICO.Range, dtype: object"
      ]
     },
     "execution_count": 135,
     "metadata": {},
     "output_type": "execute_result"
    }
   ],
   "source": [
    "loansData['FICO.Range'][0:5] # first five rows of FICO.Range"
   ]
  },
  {
   "cell_type": "code",
   "execution_count": 136,
   "metadata": {
    "collapsed": false
   },
   "outputs": [
    {
     "data": {
      "text/plain": [
       "81174    737\n",
       "99592    717\n",
       "80059    692\n",
       "15825    697\n",
       "33182    697\n",
       "Name: FICO.Range, dtype: object"
      ]
     },
     "execution_count": 136,
     "metadata": {},
     "output_type": "execute_result"
    }
   ],
   "source": [
    "# Get all index for the series data\n",
    "indices = loansData['FICO.Range'].index\n",
    "count = 0\n",
    "vals = {}\n",
    "# Replace the categorical data with the middle value.\n",
    "for x in loansData['FICO.Range']:\n",
    "    low,high = x.split('-')\n",
    "    mid = (int(low) + int(high))/2\n",
    "    vals[indices[count]] = str(int(mid))\n",
    "    count += 1\n",
    "# Forming a series object and then assigning.\n",
    "loansData['FICO.Range'] = pd.Series(vals,indices)\n",
    "loansData['FICO.Range'][0:5]"
   ]
  },
  {
   "cell_type": "code",
   "execution_count": 137,
   "metadata": {
    "collapsed": false
   },
   "outputs": [
    {
     "data": {
      "text/plain": [
       "pandas.core.series.Series"
      ]
     },
     "execution_count": 137,
     "metadata": {},
     "output_type": "execute_result"
    }
   ],
   "source": [
    "type(loansData['Loan.Length'])"
   ]
  },
  {
   "cell_type": "code",
   "execution_count": null,
   "metadata": {
    "collapsed": true
   },
   "outputs": [],
   "source": []
  }
 ],
 "metadata": {
  "kernelspec": {
   "display_name": "Python 3",
   "language": "python",
   "name": "python3"
  },
  "language_info": {
   "codemirror_mode": {
    "name": "ipython",
    "version": 3
   },
   "file_extension": ".py",
   "mimetype": "text/x-python",
   "name": "python",
   "nbconvert_exporter": "python",
   "pygments_lexer": "ipython3",
   "version": "3.4.0"
  }
 },
 "nbformat": 4,
 "nbformat_minor": 0
}
