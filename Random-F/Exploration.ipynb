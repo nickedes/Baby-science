{
 "cells": [
  {
   "cell_type": "code",
   "execution_count": 1,
   "metadata": {
    "collapsed": false
   },
   "outputs": [
    {
     "name": "stdout",
     "output_type": "stream",
     "text": [
      "Populating the interactive namespace from numpy and matplotlib\n"
     ]
    }
   ],
   "source": [
    "%pylab inline\n",
    "import pandas as pd\n",
    "df = pd.read_csv('../datasets/samsung/samsungdata.csv')"
   ]
  },
  {
   "cell_type": "code",
   "execution_count": 2,
   "metadata": {
    "collapsed": false
   },
   "outputs": [
    {
     "data": {
      "text/plain": [
       "<bound method Index.unique of Index(['Unnamed: 0', 'tBodyAcc-mean()-X', 'tBodyAcc-mean()-Y',\n",
       "       'tBodyAcc-mean()-Z', 'tBodyAcc-std()-X', 'tBodyAcc-std()-Y',\n",
       "       'tBodyAcc-std()-Z', 'tBodyAcc-mad()-X', 'tBodyAcc-mad()-Y',\n",
       "       'tBodyAcc-mad()-Z', \n",
       "       ...\n",
       "       'fBodyBodyGyroJerkMag-kurtosis()', 'angle(tBodyAccMean,gravity)',\n",
       "       'angle(tBodyAccJerkMean),gravityMean)',\n",
       "       'angle(tBodyGyroMean,gravityMean)',\n",
       "       'angle(tBodyGyroJerkMean,gravityMean)', 'angle(X,gravityMean)',\n",
       "       'angle(Y,gravityMean)', 'angle(Z,gravityMean)', 'subject', 'activity'],\n",
       "      dtype='object', length=564)>"
      ]
     },
     "execution_count": 2,
     "metadata": {},
     "output_type": "execute_result"
    }
   ],
   "source": [
    "# Since total no. of columns is equal to unique columns.\n",
    "# hence no duplicates.\n",
    "df.columns.unique"
   ]
  },
  {
   "cell_type": "code",
   "execution_count": 3,
   "metadata": {
    "collapsed": false
   },
   "outputs": [],
   "source": [
    "# Identify and fix inclusion of ( ) in column names\n",
    "df = df.rename(columns=lambda x: x.replace('()', ''))"
   ]
  },
  {
   "cell_type": "code",
   "execution_count": 4,
   "metadata": {
    "collapsed": false,
    "scrolled": true
   },
   "outputs": [
    {
     "data": {
      "text/plain": [
       "<bound method Index.unique of Index(['Unnamed: 0', 'tBodyAcc-mean-X', 'tBodyAcc-mean-Y', 'tBodyAcc-mean-Z',\n",
       "       'tBodyAcc-std-X', 'tBodyAcc-std-Y', 'tBodyAcc-std-Z', 'tBodyAcc-mad-X',\n",
       "       'tBodyAcc-mad-Y', 'tBodyAcc-mad-Z', \n",
       "       ...\n",
       "       'fBodyBodyGyroJerkMag-kurtosis', 'angle(tBodyAccMean,gravity)',\n",
       "       'angle(tBodyAccJerkMean),gravityMean)',\n",
       "       'angle(tBodyGyroMean,gravityMean)',\n",
       "       'angle(tBodyGyroJerkMean,gravityMean)', 'angle(X,gravityMean)',\n",
       "       'angle(Y,gravityMean)', 'angle(Z,gravityMean)', 'subject', 'activity'],\n",
       "      dtype='object', length=564)>"
      ]
     },
     "execution_count": 4,
     "metadata": {},
     "output_type": "execute_result"
    }
   ],
   "source": [
    "df.columns.unique"
   ]
  },
  {
   "cell_type": "code",
   "execution_count": 5,
   "metadata": {
    "collapsed": true
   },
   "outputs": [],
   "source": [
    "# Exploration\n",
    "df = df.rename(columns=lambda x: x.replace('-', ''))\n",
    "df = df.rename(columns=lambda x: x.replace(',', ''))\n",
    "df = df.rename(columns=lambda x: x.replace('BodyBody', ''))"
   ]
  },
  {
   "cell_type": "code",
   "execution_count": 11,
   "metadata": {
    "collapsed": false
   },
   "outputs": [],
   "source": [
    "# Variable Reduction\n",
    "# 1. Mag and angle variables contain the same info as (= strongly correlated with) XYZ variables and we choose the later.\n",
    "for col in df.columns:\n",
    "    if 'Mag' in col:\n",
    "        df = df.drop(col, 1)"
   ]
  },
  {
   "cell_type": "code",
   "execution_count": 12,
   "metadata": {
    "collapsed": false
   },
   "outputs": [
    {
     "data": {
      "text/plain": [
       "Index(['Unnamed: 0', 'tBodyAccmeanX', 'tBodyAccmeanY', 'tBodyAccmeanZ',\n",
       "       'tBodyAccstdX', 'tBodyAccstdY', 'tBodyAccstdZ', 'tBodyAccmadX',\n",
       "       'tBodyAccmadY', 'tBodyAccmadZ', \n",
       "       ...\n",
       "       'fBodyGyrobandsEnergy2548.2', 'angle(tBodyAccMeangravity)',\n",
       "       'angle(tBodyAccJerkMean)gravityMean)',\n",
       "       'angle(tBodyGyroMeangravityMean)',\n",
       "       'angle(tBodyGyroJerkMeangravityMean)', 'angle(XgravityMean)',\n",
       "       'angle(YgravityMean)', 'angle(ZgravityMean)', 'subject', 'activity'],\n",
       "      dtype='object', length=447)"
      ]
     },
     "execution_count": 12,
     "metadata": {},
     "output_type": "execute_result"
    }
   ],
   "source": [
    "df.columns"
   ]
  },
  {
   "cell_type": "code",
   "execution_count": null,
   "metadata": {
    "collapsed": true
   },
   "outputs": [],
   "source": []
  }
 ],
 "metadata": {
  "kernelspec": {
   "display_name": "Python 3",
   "language": "python",
   "name": "python3"
  },
  "language_info": {
   "codemirror_mode": {
    "name": "ipython",
    "version": 3
   },
   "file_extension": ".py",
   "mimetype": "text/x-python",
   "name": "python",
   "nbconvert_exporter": "python",
   "pygments_lexer": "ipython3",
   "version": "3.4.0"
  }
 },
 "nbformat": 4,
 "nbformat_minor": 0
}
