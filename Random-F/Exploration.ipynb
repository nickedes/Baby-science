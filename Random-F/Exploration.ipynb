{
 "cells": [
  {
   "cell_type": "code",
   "execution_count": 28,
   "metadata": {
    "collapsed": false
   },
   "outputs": [
    {
     "name": "stdout",
     "output_type": "stream",
     "text": [
      "Populating the interactive namespace from numpy and matplotlib\n"
     ]
    }
   ],
   "source": [
    "%pylab inline\n",
    "import pandas as pd\n",
    "df = pd.read_csv('../datasets/samsung/samsungdata.csv')"
   ]
  },
  {
   "cell_type": "code",
   "execution_count": 29,
   "metadata": {
    "collapsed": false
   },
   "outputs": [
    {
     "data": {
      "text/plain": [
       "<bound method Index.unique of Index(['Unnamed: 0', 'tBodyAcc-mean()-X', 'tBodyAcc-mean()-Y',\n",
       "       'tBodyAcc-mean()-Z', 'tBodyAcc-std()-X', 'tBodyAcc-std()-Y',\n",
       "       'tBodyAcc-std()-Z', 'tBodyAcc-mad()-X', 'tBodyAcc-mad()-Y',\n",
       "       'tBodyAcc-mad()-Z', \n",
       "       ...\n",
       "       'fBodyBodyGyroJerkMag-kurtosis()', 'angle(tBodyAccMean,gravity)',\n",
       "       'angle(tBodyAccJerkMean),gravityMean)',\n",
       "       'angle(tBodyGyroMean,gravityMean)',\n",
       "       'angle(tBodyGyroJerkMean,gravityMean)', 'angle(X,gravityMean)',\n",
       "       'angle(Y,gravityMean)', 'angle(Z,gravityMean)', 'subject', 'activity'],\n",
       "      dtype='object', length=564)>"
      ]
     },
     "execution_count": 29,
     "metadata": {},
     "output_type": "execute_result"
    }
   ],
   "source": [
    "# Since total no. of columns is equal to unique columns.\n",
    "# hence no duplicates.\n",
    "df.columns.unique"
   ]
  },
  {
   "cell_type": "code",
   "execution_count": 30,
   "metadata": {
    "collapsed": false
   },
   "outputs": [],
   "source": [
    "# Identify and fix inclusion of ( ) in column names\n",
    "df = df.rename(columns=lambda x: x.replace('()', ''))"
   ]
  },
  {
   "cell_type": "code",
   "execution_count": 31,
   "metadata": {
    "collapsed": false,
    "scrolled": true
   },
   "outputs": [
    {
     "data": {
      "text/plain": [
       "<bound method Index.unique of Index(['Unnamed: 0', 'tBodyAcc-mean-X', 'tBodyAcc-mean-Y', 'tBodyAcc-mean-Z',\n",
       "       'tBodyAcc-std-X', 'tBodyAcc-std-Y', 'tBodyAcc-std-Z', 'tBodyAcc-mad-X',\n",
       "       'tBodyAcc-mad-Y', 'tBodyAcc-mad-Z', \n",
       "       ...\n",
       "       'fBodyBodyGyroJerkMag-kurtosis', 'angle(tBodyAccMean,gravity)',\n",
       "       'angle(tBodyAccJerkMean),gravityMean)',\n",
       "       'angle(tBodyGyroMean,gravityMean)',\n",
       "       'angle(tBodyGyroJerkMean,gravityMean)', 'angle(X,gravityMean)',\n",
       "       'angle(Y,gravityMean)', 'angle(Z,gravityMean)', 'subject', 'activity'],\n",
       "      dtype='object', length=564)>"
      ]
     },
     "execution_count": 31,
     "metadata": {},
     "output_type": "execute_result"
    }
   ],
   "source": [
    "df.columns.unique"
   ]
  },
  {
   "cell_type": "code",
   "execution_count": 39,
   "metadata": {
    "collapsed": true
   },
   "outputs": [],
   "source": [
    "# Exploration\n",
    "df = df.rename(columns=lambda x: x.replace('-', ''))\n",
    "df = df.rename(columns=lambda x: x.replace(',', ''))\n",
    "df = df.rename(columns=lambda x: x.replace('BodyBody', ''))\n",
    "df = df.rename(columns=lambda x: x.replace('Body', ''))"
   ]
  },
  {
   "cell_type": "code",
   "execution_count": 40,
   "metadata": {
    "collapsed": false
   },
   "outputs": [],
   "source": [
    "# Variable Reduction\n",
    "# 1. Mag and angle variables contain the same info as (= strongly correlated with) XYZ variables and we choose the later.\n",
    "for col in df.columns:\n",
    "    if 'Mag' in col or 'angle' in col:\n",
    "        df = df.drop(col, 1)"
   ]
  },
  {
   "cell_type": "code",
   "execution_count": 41,
   "metadata": {
    "collapsed": false
   },
   "outputs": [],
   "source": [
    "# 2. We ignore the band variables as we have no simple way to interpret the meaning and relate them to physical activities.\n",
    "for col in df.columns:\n",
    "    if 'band' in col:\n",
    "        df = df.drop(col, 1)"
   ]
  },
  {
   "cell_type": "code",
   "execution_count": 42,
   "metadata": {
    "collapsed": false
   },
   "outputs": [],
   "source": [
    "# Eliminating confounders\n",
    "for col in df.columns:\n",
    "    if 'X' is col[-1] or 'Y' is col[-1] or 'Z' is col[-1]:\n",
    "        df = df.drop(col, 1)"
   ]
  },
  {
   "cell_type": "code",
   "execution_count": 43,
   "metadata": {
    "collapsed": false
   },
   "outputs": [
    {
     "data": {
      "text/plain": [
       "Index(['Unnamed: 0', 'tAccsma', 'tAccarCoeffX1', 'tAccarCoeffX2',\n",
       "       'tAccarCoeffX3', 'tAccarCoeffX4', 'tAccarCoeffY1', 'tAccarCoeffY2',\n",
       "       'tAccarCoeffY3', 'tAccarCoeffY4', 'tAccarCoeffZ1', 'tAccarCoeffZ2',\n",
       "       'tAccarCoeffZ3', 'tAccarCoeffZ4', 'tGravityAccsma',\n",
       "       'tGravityAccarCoeffX1', 'tGravityAccarCoeffX2', 'tGravityAccarCoeffX3',\n",
       "       'tGravityAccarCoeffX4', 'tGravityAccarCoeffY1', 'tGravityAccarCoeffY2',\n",
       "       'tGravityAccarCoeffY3', 'tGravityAccarCoeffY4', 'tGravityAccarCoeffZ1',\n",
       "       'tGravityAccarCoeffZ2', 'tGravityAccarCoeffZ3', 'tGravityAccarCoeffZ4',\n",
       "       'tAccJerksma', 'tAccJerkarCoeffX1', 'tAccJerkarCoeffX2',\n",
       "       'tAccJerkarCoeffX3', 'tAccJerkarCoeffX4', 'tAccJerkarCoeffY1',\n",
       "       'tAccJerkarCoeffY2', 'tAccJerkarCoeffY3', 'tAccJerkarCoeffY4',\n",
       "       'tAccJerkarCoeffZ1', 'tAccJerkarCoeffZ2', 'tAccJerkarCoeffZ3',\n",
       "       'tAccJerkarCoeffZ4', 'tGyrosma', 'tGyroarCoeffX1', 'tGyroarCoeffX2',\n",
       "       'tGyroarCoeffX3', 'tGyroarCoeffX4', 'tGyroarCoeffY1', 'tGyroarCoeffY2',\n",
       "       'tGyroarCoeffY3', 'tGyroarCoeffY4', 'tGyroarCoeffZ1', 'tGyroarCoeffZ2',\n",
       "       'tGyroarCoeffZ3', 'tGyroarCoeffZ4', 'tGyroJerksma',\n",
       "       'tGyroJerkarCoeffX1', 'tGyroJerkarCoeffX2', 'tGyroJerkarCoeffX3',\n",
       "       'tGyroJerkarCoeffX4', 'tGyroJerkarCoeffY1', 'tGyroJerkarCoeffY2',\n",
       "       'tGyroJerkarCoeffY3', 'tGyroJerkarCoeffY4', 'tGyroJerkarCoeffZ1',\n",
       "       'tGyroJerkarCoeffZ2', 'tGyroJerkarCoeffZ3', 'tGyroJerkarCoeffZ4',\n",
       "       'fAccsma', 'fAccJerksma', 'fGyrosma', 'subject', 'activity'],\n",
       "      dtype='object')"
      ]
     },
     "execution_count": 43,
     "metadata": {},
     "output_type": "execute_result"
    }
   ],
   "source": [
    "df.columns"
   ]
  },
  {
   "cell_type": "code",
   "execution_count": null,
   "metadata": {
    "collapsed": true
   },
   "outputs": [],
   "source": []
  }
 ],
 "metadata": {
  "kernelspec": {
   "display_name": "Python 3",
   "language": "python",
   "name": "python3"
  },
  "language_info": {
   "codemirror_mode": {
    "name": "ipython",
    "version": 3
   },
   "file_extension": ".py",
   "mimetype": "text/x-python",
   "name": "python",
   "nbconvert_exporter": "python",
   "pygments_lexer": "ipython3",
   "version": "3.4.0"
  }
 },
 "nbformat": 4,
 "nbformat_minor": 0
}
